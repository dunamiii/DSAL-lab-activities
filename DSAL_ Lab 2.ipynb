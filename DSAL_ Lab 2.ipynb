{
 "cells": [
  {
   "cell_type": "code",
   "execution_count": 1,
   "metadata": {},
   "outputs": [
    {
     "name": "stdout",
     "output_type": "stream",
     "text": [
      "Please input scores of Lab Activity 1 to 10. \n",
      "Score of lab Activity 1 = 90\n",
      "Score of lab Activity 2 = 80\n",
      "Score of lab Activity 3 = 70\n",
      "Score of lab Activity 4 = 60\n",
      "Score of lab Activity 5 = 50\n",
      "Score of lab Activity 6 = 88\n",
      "Score of lab Activity 7 = 77\n",
      "Score of lab Activity 8 = 68\n",
      "Score of lab Activity 9 = 98\n",
      "Score of lab Activity 10 = 50\n",
      "Prelim Grade is: 73.1\n"
     ]
    }
   ],
   "source": [
    "# This program computes for the average of 10 lab activity scores.\n",
    "# This program only accepts data wit int data type.\n",
    "\n",
    "print(\"Please input scores of Lab Activity 1 to 10. \")\n",
    "totalScore = 0\n",
    "for labActivity in range(10):\n",
    "    print(\"Score of lab Activity {} = \".format(labActivity + 1),end=\"\")\n",
    "    \n",
    "    labActivity = int(input())\n",
    "    totalScore += labActivity\n",
    "\n",
    "averageScore = totalScore / 10\n",
    "#print(\"Prelim Grade is: \" + str(averageScore))\n",
    "print(\"Prelim Grade is: \"+ str(totalScore / 10))"
   ]
  },
  {
   "cell_type": "markdown",
   "metadata": {},
   "source": [
    "The function used for listing the grades used is range and is set to 10. This represents the grades for the 10 lab activities. totalScore is set to 0 so when a new value is added it wont affect its value. The .format(labActivity +1) will be the format for every new lab activity printed. the +1 will be the increment. The code after the format is end =\" \" it will only add space and align the input after the format. The code for putting the value is labActivity = int(input()), this will bring up a line where you can put the values and then the values inputted will be shown with code used before.The code  totalScore += labActivity, this will add all the values for the 10 lab activities. The code for getting the average score is totalscore/ 10. This will divide the sum of the lab activites into the 10, getting the average score. In printing the prelim grade, the function average score will be called and str will convert the int into string. "
   ]
  }
 ],
 "metadata": {
  "kernelspec": {
   "display_name": "Python 3",
   "language": "python",
   "name": "python3"
  },
  "language_info": {
   "codemirror_mode": {
    "name": "ipython",
    "version": 3
   },
   "file_extension": ".py",
   "mimetype": "text/x-python",
   "name": "python",
   "nbconvert_exporter": "python",
   "pygments_lexer": "ipython3",
   "version": "3.8.3"
  }
 },
 "nbformat": 4,
 "nbformat_minor": 4
}
